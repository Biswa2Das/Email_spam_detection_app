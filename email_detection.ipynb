{
  "nbformat": 4,
  "nbformat_minor": 0,
  "metadata": {
    "colab": {
      "provenance": []
    },
    "kernelspec": {
      "name": "python3",
      "display_name": "Python 3"
    },
    "language_info": {
      "name": "python"
    }
  },
  "cells": [
    {
      "cell_type": "code",
      "source": [
        "import pandas as pd\n",
        "import numpy as np\n",
        "import re\n",
        "import string\n",
        "from sklearn.model_selection import train_test_split\n",
        "from sklearn.feature_extraction.text import TfidfVectorizer\n",
        "from sklearn.linear_model import LogisticRegression\n",
        "from sklearn.metrics import accuracy_score, classification_report\n",
        "\n",
        "# Load dataset (Replace with actual dataset)\n",
        "df = pd.read_csv(\"/content/spam.csv\", encoding='latin-1')\n",
        "df = df[['v1', 'v2']]  # Keep only relevant columns\n",
        "df.columns = ['label', 'message']\n",
        "\n",
        "# Convert labels to binary (ham=0, spam=1)\n",
        "df['label'] = df['label'].map({'ham': 0, 'spam': 1})\n",
        "\n",
        "# Text preprocessing function\n",
        "def preprocess_text(text):\n",
        "    text = text.lower()\n",
        "    text = re.sub(r'\\d+', '', text)  # Remove numbers\n",
        "    text = text.translate(str.maketrans('', '', string.punctuation))  # Remove punctuation\n",
        "    return text\n",
        "\n",
        "df['cleaned_text'] = df['message'].apply(preprocess_text)\n",
        "\n",
        "# Convert text to numerical features using TF-IDF\n",
        "vectorizer = TfidfVectorizer(stop_words='english', max_features=5000)\n",
        "X = vectorizer.fit_transform(df['cleaned_text'])\n",
        "\n",
        "# Split dataset\n",
        "X_train, X_test, y_train, y_test = train_test_split(X, df['label'], test_size=0.2, random_state=42)\n",
        "\n",
        "# Train Logistic Regression Model\n",
        "model = LogisticRegression()\n",
        "model.fit(X_train, y_train)\n",
        "\n",
        "# Make predictions\n",
        "y_pred = model.predict(X_test)\n",
        "\n",
        "def classify_email(email_text):\n",
        "    email_text = preprocess_text(email_text)  # Preprocess\n",
        "    email_vector = vectorizer.transform([email_text])  # Convert to TF-IDF\n",
        "    prediction = model.predict(email_vector)[0]  # Predict\n",
        "    return \"Spam\" if prediction == 1 else \"Not Spam\"\n",
        "\n",
        "# Upload a single email for classification\n",
        "email_input = input(\"Enter email content: \")  # User inputs email text\n",
        "result = classify_email(email_input)\n",
        "print(f\"The email is classified as: {result}\")\n",
        "\n"
      ],
      "metadata": {
        "colab": {
          "base_uri": "https://localhost:8080/"
        },
        "id": "VjQZQAVyaHfN",
        "outputId": "7f795cf6-488e-4e42-bdbe-0516c3fb511f"
      },
      "execution_count": 6,
      "outputs": [
        {
          "output_type": "stream",
          "name": "stdout",
          "text": [
            "Enter email content: chool of Digital Sciences, DUK . <sods@duk.ac.in> 12:43 PM (1 hour ago) to student-mdcs24, student-mdgi24, student-msda24, student-mdai24, aayisha.cs24, adithyaviju.cs24, akhil.cs24, anagham.cs24, ananthakrishnan.cs24, ARSHED, govindk.cs24, hadi.cs24, ibrahim.cs24, sreelakshmi.cs24, suhana.cs24  Dear Students, As part of the MIC - AICTE Faculty Development Program (FDP), Academic office require Gallery Hall 45 on the following dates and times to conduct the inaugural and closing events:  April 7th from 9:00 AM to 12:00 PM  (Web Technology - Prof Sanil P Nair)  April 11th from 2:00 PM to 6:00 PM (HD2 (Industry Readiness Program -  Prof Sanil P Nair)  To accommodate these events, kindly request that classes scheduled in Room No. 45 during these periods be relocated to Room No. 44.\n",
            "The email is classified as: Not Spam\n"
          ]
        }
      ]
    }
  ]
}